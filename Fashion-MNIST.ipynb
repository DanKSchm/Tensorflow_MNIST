{
 "cells": [
  {
   "cell_type": "markdown",
   "metadata": {},
   "source": [
    "# Fashion MNIST Datensatz"
   ]
  },
  {
   "cell_type": "markdown",
   "metadata": {},
   "source": [
    "### 1) Daten vor-und aufbereiten; Trainings-und Testdatensatz erstellen\n",
    "### 2) Model anlegen und Aktivierungsfunktion festlegen\n",
    "### 3) Passende Optimierer und Verlustfunktion bestimmen\n",
    "### 4) Trainiere Modell"
   ]
  },
  {
   "cell_type": "code",
   "execution_count": 1,
   "metadata": {},
   "outputs": [],
   "source": [
    "import numpy as np\n",
    "import tensorflow as tf\n",
    "import matplotlib.pyplot as plt\n",
    "\n",
    "import tensorflow_datasets as tfds\n"
   ]
  },
  {
   "cell_type": "markdown",
   "metadata": {},
   "source": [
    "### Data"
   ]
  },
  {
   "cell_type": "code",
   "execution_count": 2,
   "metadata": {},
   "outputs": [],
   "source": [
    "fm_dataset, fm_info = tfds.load(name=\"fashion_mnist\", with_info=True, as_supervised=True) # as_supervised=True -> Datensatz wird in 2-Tupe-Struktur geladen[Eingaben,Ziele]"
   ]
  },
  {
   "cell_type": "code",
   "execution_count": 3,
   "metadata": {},
   "outputs": [],
   "source": [
    "fm_train, fm_test = fm_dataset[\"train\"], fm_dataset[\"test\"]\n",
    "\n",
    "num_validation_samples = 0.1*fm_info.splits[\"train\"].num_examples\n",
    "num_validation_samples = tf.cast(num_validation_samples, tf.int64)  #tf.cast(x,dtype) wandelt eine Variable in einen von uns festgelegten Datentyp um\n",
    "\n",
    "num_test_samples= fm_info.splits[\"test\"].num_examples\n",
    "num_test_samples = tf.cast(num_test_samples, tf.int64)\n",
    "\n",
    "def scale(image, label):\n",
    "    image= tf.cast(image,tf.float32)\n",
    "    image/=255.\n",
    "    return image,label\n",
    "\n",
    "scaled_train_and_validation_data = fm_train.map(scale)\n",
    "\n",
    "test_data = fm_test.map(scale)\n",
    "\n",
    "\n",
    "BUFFER_SIZE = 10000\n",
    "\n",
    "shuffled_train_and_validation_data = scaled_train_and_validation_data.shuffle(BUFFER_SIZE)\n",
    "\n",
    "validation_data = shuffled_train_and_validation_data.take(num_validation_samples)\n",
    "train_data = shuffled_train_and_validation_data.skip(num_validation_samples)\n",
    "\n",
    "BATCH_SIZE = 150\n",
    "\n",
    "train_data = train_data.batch(BATCH_SIZE)\n",
    "validation_data = validation_data.batch(num_validation_samples)\n",
    "test_data = test_data.batch(num_validation_samples)\n",
    "\n",
    "validation_inputs, validation_targets = next(iter(validation_data))\n"
   ]
  },
  {
   "cell_type": "code",
   "execution_count": 4,
   "metadata": {},
   "outputs": [
    {
     "data": {
      "text/plain": [
       "tfds.core.DatasetInfo(\n",
       "    name='fashion_mnist',\n",
       "    version=3.0.1,\n",
       "    description='Fashion-MNIST is a dataset of Zalando's article images consisting of a training set of 60,000 examples and a test set of 10,000 examples. Each example is a 28x28 grayscale image, associated with a label from 10 classes.',\n",
       "    homepage='https://github.com/zalandoresearch/fashion-mnist',\n",
       "    features=FeaturesDict({\n",
       "        'image': Image(shape=(28, 28, 1), dtype=tf.uint8),\n",
       "        'label': ClassLabel(shape=(), dtype=tf.int64, num_classes=10),\n",
       "    }),\n",
       "    total_num_examples=70000,\n",
       "    splits={\n",
       "        'test': 10000,\n",
       "        'train': 60000,\n",
       "    },\n",
       "    supervised_keys=('image', 'label'),\n",
       "    citation=\"\"\"@article{DBLP:journals/corr/abs-1708-07747,\n",
       "      author    = {Han Xiao and\n",
       "                   Kashif Rasul and\n",
       "                   Roland Vollgraf},\n",
       "      title     = {Fashion-MNIST: a Novel Image Dataset for Benchmarking Machine Learning\n",
       "                   Algorithms},\n",
       "      journal   = {CoRR},\n",
       "      volume    = {abs/1708.07747},\n",
       "      year      = {2017},\n",
       "      url       = {http://arxiv.org/abs/1708.07747},\n",
       "      archivePrefix = {arXiv},\n",
       "      eprint    = {1708.07747},\n",
       "      timestamp = {Mon, 13 Aug 2018 16:47:27 +0200},\n",
       "      biburl    = {https://dblp.org/rec/bib/journals/corr/abs-1708-07747},\n",
       "      bibsource = {dblp computer science bibliography, https://dblp.org}\n",
       "    }\"\"\",\n",
       "    redistribution_info=,\n",
       ")"
      ]
     },
     "execution_count": 4,
     "metadata": {},
     "output_type": "execute_result"
    }
   ],
   "source": [
    "fm_info"
   ]
  },
  {
   "cell_type": "markdown",
   "metadata": {},
   "source": [
    "#### dataset.map(*function*) wendet eine von uns definierte Transformation auf einen Datensatz an.Als Eingabe bestimmt eibe Funktion die Transformation."
   ]
  },
  {
   "cell_type": "markdown",
   "metadata": {},
   "source": [
    "# Model"
   ]
  },
  {
   "cell_type": "markdown",
   "metadata": {},
   "source": [
    "## Outline the model"
   ]
  },
  {
   "cell_type": "code",
   "execution_count": 5,
   "metadata": {},
   "outputs": [],
   "source": [
    "input_size = 784\n",
    "output_size = 10\n",
    "hidden_layer_size = 150  #Anname ist, dass alle verborgenen Schichten gleicher Größe sind.\n",
    "\n",
    "\n",
    "model = tf.keras.Sequential([\n",
    "                            tf.keras.layers.Flatten(input_shape=(28,28,1)),\n",
    "                            tf.keras.layers.Dense(hidden_layer_size, activation=\"relu\"),\n",
    "                            tf.keras.layers.Dense(hidden_layer_size, activation=\"relu\"),\n",
    "                            tf.keras.layers.Dense(output_size, activation=\"softmax\")\n",
    "    \n",
    "                            ])  #tf.keras.Sequential() definiert das Modell (\"geschichtet\")"
   ]
  },
  {
   "cell_type": "markdown",
   "metadata": {},
   "source": [
    "## Choose the optimizer and the loss function"
   ]
  },
  {
   "cell_type": "code",
   "execution_count": 6,
   "metadata": {},
   "outputs": [],
   "source": [
    "model.compile(optimizer=\"adam\", loss=\"sparse_categorical_crossentropy\", metrics=[\"accuracy\"])"
   ]
  },
  {
   "cell_type": "markdown",
   "metadata": {},
   "source": [
    "## Training"
   ]
  },
  {
   "cell_type": "code",
   "execution_count": 7,
   "metadata": {},
   "outputs": [
    {
     "name": "stdout",
     "output_type": "stream",
     "text": [
      "Epoch 1/10\n",
      "360/360 - 22s - loss: 0.5386 - accuracy: 0.8127 - val_loss: 0.0000e+00 - val_accuracy: 0.0000e+00\n",
      "Epoch 2/10\n",
      "360/360 - 13s - loss: 0.3844 - accuracy: 0.8627 - val_loss: 0.4275 - val_accuracy: 0.8470\n",
      "Epoch 3/10\n",
      "360/360 - 12s - loss: 0.3459 - accuracy: 0.8743 - val_loss: 0.3342 - val_accuracy: 0.8803\n",
      "Epoch 4/10\n",
      "360/360 - 13s - loss: 0.3199 - accuracy: 0.8832 - val_loss: 0.3541 - val_accuracy: 0.8698\n",
      "Epoch 5/10\n",
      "360/360 - 13s - loss: 0.2980 - accuracy: 0.8904 - val_loss: 0.3088 - val_accuracy: 0.8917\n",
      "Epoch 6/10\n",
      "360/360 - 13s - loss: 0.2830 - accuracy: 0.8953 - val_loss: 0.3560 - val_accuracy: 0.8712\n",
      "Epoch 7/10\n",
      "360/360 - 13s - loss: 0.2734 - accuracy: 0.8993 - val_loss: 0.2927 - val_accuracy: 0.8952\n",
      "Epoch 8/10\n",
      "360/360 - 13s - loss: 0.2626 - accuracy: 0.9023 - val_loss: 0.2804 - val_accuracy: 0.8980\n",
      "Epoch 9/10\n",
      "360/360 - 13s - loss: 0.2534 - accuracy: 0.9053 - val_loss: 0.2635 - val_accuracy: 0.9073\n",
      "Epoch 10/10\n",
      "360/360 - 12s - loss: 0.2412 - accuracy: 0.9107 - val_loss: 0.2529 - val_accuracy: 0.9083\n"
     ]
    },
    {
     "data": {
      "text/plain": [
       "<tensorflow.python.keras.callbacks.History at 0x25ffcea9108>"
      ]
     },
     "execution_count": 7,
     "metadata": {},
     "output_type": "execute_result"
    }
   ],
   "source": [
    "NUM_EPOCHS = 10\n",
    "\n",
    "model.fit(train_data, epochs=NUM_EPOCHS, validation_data=(validation_inputs, validation_targets),validation_steps=1, verbose=2)"
   ]
  },
  {
   "cell_type": "markdown",
   "metadata": {},
   "source": [
    "## Test the model"
   ]
  },
  {
   "cell_type": "code",
   "execution_count": 8,
   "metadata": {},
   "outputs": [
    {
     "name": "stdout",
     "output_type": "stream",
     "text": [
      "2/2 [==============================] - 4s 2s/step - loss: 0.3241 - accuracy: 0.8857\n"
     ]
    }
   ],
   "source": [
    "test_loss, test_accuracy = model.evaluate(test_data)"
   ]
  },
  {
   "cell_type": "code",
   "execution_count": 9,
   "metadata": {},
   "outputs": [
    {
     "name": "stdout",
     "output_type": "stream",
     "text": [
      "test loss: 0.32. Test accuracy: 88.57%\n"
     ]
    }
   ],
   "source": [
    "print(\"test loss: {0:.2f}. Test accuracy: {1:.2f}%\".format(test_loss, test_accuracy*100.))"
   ]
  },
  {
   "cell_type": "code",
   "execution_count": 10,
   "metadata": {},
   "outputs": [],
   "source": [
    "a = train_data.batch(50)\n",
    "\n",
    "#plt.imshow(train_data[2])"
   ]
  },
  {
   "cell_type": "code",
   "execution_count": 11,
   "metadata": {},
   "outputs": [],
   "source": [
    "data = next(iter(a))\n"
   ]
  },
  {
   "cell_type": "markdown",
   "metadata": {},
   "source": [
    "b=data[0][0][10:35]\n",
    "\n",
    "for i in range(25):\n",
    "    plt.subplot(5, 5, i+1)\n",
    "    plt.imshow(b[i], cmap=plt.cm.Greys)\n",
    "    plt.axis('off')\n",
    "    \n",
    "for image in b:\n",
    "    image = np.array(image).reshape(1,28,28,1)\n",
    "    pic= model.predict(image).argmax()\n",
    "    print(pic"
   ]
  },
  {
   "cell_type": "markdown",
   "metadata": {},
   "source": [
    "for image in b:\n",
    "    image = np.array(image).reshape(1,28,28,1)\n",
    "    pic= model.predict(image).argmax()\n",
    "    print(pic)"
   ]
  },
  {
   "cell_type": "markdown",
   "metadata": {},
   "source": [
    "## Check the modell in action "
   ]
  },
  {
   "cell_type": "code",
   "execution_count": 14,
   "metadata": {},
   "outputs": [
    {
     "data": {
      "image/png": "[encoded data removed]",
      "text/plain": [
       "<Figure size 432x288 with 25 Axes>"
      ]
     },
     "metadata": {
      "needs_background": "light"
     },
     "output_type": "display_data"
    }
   ],
   "source": [
    "b=data[0][0][10:35]\n",
    "for i in range(25):\n",
    "    plt.subplot(5, 5, i+1)\n",
    "    plt.imshow(b[i], cmap=plt.cm.Greys)\n",
    "    plt.axis('off')\n",
    "\n",
    "    image = b[i]\n",
    "    image = np.array(image).reshape(1,28,28,1)\n",
    "    pic= model.predict(image).argmax()\n",
    "    plt.text(0.5,-0.1, pic, size=12, ha=\"center\")"
   ]
  },
  {
   "cell_type": "code",
   "execution_count": 13,
   "metadata": {},
   "outputs": [
    {
     "data": {
      "text/plain": [
       "<tf.Tensor: id=12245, shape=(50, 150), dtype=int64, numpy=\n",
       "array([[7, 8, 4, ..., 2, 4, 0],\n",
       "       [3, 2, 8, ..., 6, 8, 5],\n",
       "       [4, 6, 3, ..., 5, 5, 0],\n",
       "       ...,\n",
       "       [2, 1, 3, ..., 2, 6, 0],\n",
       "       [6, 4, 8, ..., 3, 3, 8],\n",
       "       [6, 3, 4, ..., 3, 7, 8]], dtype=int64)>"
      ]
     },
     "execution_count": 13,
     "metadata": {},
     "output_type": "execute_result"
    }
   ],
   "source": [
    "data[1]"
   ]
  },
  {
   "cell_type": "code",
   "execution_count": null,
   "metadata": {},
   "outputs": [],
   "source": []
  }
 ],
 "metadata": {
  "kernelspec": {
   "display_name": "Python 3",
   "language": "python",
   "name": "python3"
  },
  "language_info": {
   "codemirror_mode": {
    "name": "ipython",
    "version": 3
   },
   "file_extension": ".py",
   "mimetype": "text/x-python",
   "name": "python",
   "nbconvert_exporter": "python",
   "pygments_lexer": "ipython3",
   "version": "3.7.8"
  }
 },
 "nbformat": 4,
 "nbformat_minor": 4
}
